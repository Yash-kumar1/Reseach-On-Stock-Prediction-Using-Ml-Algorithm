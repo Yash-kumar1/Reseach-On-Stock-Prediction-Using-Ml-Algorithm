{
  "nbformat": 4,
  "nbformat_minor": 0,
  "metadata": {
    "colab": {
      "name": "Untitled5.ipynb",
      "provenance": [],
      "authorship_tag": "ABX9TyPTuA5AZ+DSFSI7A3+7Bz3b",
      "include_colab_link": true
    },
    "kernelspec": {
      "name": "python3",
      "display_name": "Python 3"
    },
    "language_info": {
      "name": "python"
    }
  },
  "cells": [
    {
      "cell_type": "markdown",
      "metadata": {
        "id": "view-in-github",
        "colab_type": "text"
      },
      "source": [
        "<a href=\"https://colab.research.google.com/github/Yash-kumar1/Reseach-On-Stock-Prediction-Using-Ml-Algorithm/blob/main/Code.ipynb\" target=\"_parent\"><img src=\"https://colab.research.google.com/assets/colab-badge.svg\" alt=\"Open In Colab\"/></a>"
      ]
    },
    {
      "cell_type": "markdown",
      "source": [
        "Reseach On Stock Prediction Using Ml Algorithm"
      ],
      "metadata": {
        "id": "XebEgvcmtfHd"
      }
    },
    {
      "cell_type": "markdown",
      "source": [
        ""
      ],
      "metadata": {
        "id": "FxNtRoPmtd3Q"
      }
    },
    {
      "cell_type": "code",
      "execution_count": 4,
      "metadata": {
        "id": "tO1YtW8btWos"
      },
      "outputs": [],
      "source": [
        "from sklearn.model_selection import train_test_split\n",
        "from sklearn.linear_model import LinearRegression\n",
        "from sklearn import metrics"
      ]
    },
    {
      "cell_type": "code",
      "source": [
        "import pandas as pd\n",
        "import matplotlib.pyplot as plt\n",
        "import numpy as np\n",
        "import math"
      ],
      "metadata": {
        "id": "Q3KverXRuF72"
      },
      "execution_count": 29,
      "outputs": []
    },
    {
      "cell_type": "code",
      "source": [
        "url='https://raw.githubusercontent.com/Yash-kumar1/Reseach-On-Stock-Prediction-Using-Ml-Algorithm/main/TSLA.csv'\n",
        "dataset =pd.read_csv(url, encoding='unicode_escape')\n",
        "dataset.head()"
      ],
      "metadata": {
        "colab": {
          "base_uri": "https://localhost:8080/",
          "height": 206
        },
        "id": "imlnRECSuVDL",
        "outputId": "7b44f743-993c-4bea-ff68-612aa8922e70"
      },
      "execution_count": 8,
      "outputs": [
        {
          "output_type": "execute_result",
          "data": {
            "text/plain": [
              "         Date   Open   High    Low  Close  Adj Close    Volume\n",
              "0  2010-06-29  3.800  5.000  3.508  4.778      4.778  93831500\n",
              "1  2010-06-30  5.158  6.084  4.660  4.766      4.766  85935500\n",
              "2  2010-07-01  5.000  5.184  4.054  4.392      4.392  41094000\n",
              "3  2010-07-02  4.600  4.620  3.742  3.840      3.840  25699000\n",
              "4  2010-07-06  4.000  4.000  3.166  3.222      3.222  34334500"
            ],
            "text/html": [
              "\n",
              "  <div id=\"df-cd457f53-a250-4102-abe7-d72665ca6a6d\">\n",
              "    <div class=\"colab-df-container\">\n",
              "      <div>\n",
              "<style scoped>\n",
              "    .dataframe tbody tr th:only-of-type {\n",
              "        vertical-align: middle;\n",
              "    }\n",
              "\n",
              "    .dataframe tbody tr th {\n",
              "        vertical-align: top;\n",
              "    }\n",
              "\n",
              "    .dataframe thead th {\n",
              "        text-align: right;\n",
              "    }\n",
              "</style>\n",
              "<table border=\"1\" class=\"dataframe\">\n",
              "  <thead>\n",
              "    <tr style=\"text-align: right;\">\n",
              "      <th></th>\n",
              "      <th>Date</th>\n",
              "      <th>Open</th>\n",
              "      <th>High</th>\n",
              "      <th>Low</th>\n",
              "      <th>Close</th>\n",
              "      <th>Adj Close</th>\n",
              "      <th>Volume</th>\n",
              "    </tr>\n",
              "  </thead>\n",
              "  <tbody>\n",
              "    <tr>\n",
              "      <th>0</th>\n",
              "      <td>2010-06-29</td>\n",
              "      <td>3.800</td>\n",
              "      <td>5.000</td>\n",
              "      <td>3.508</td>\n",
              "      <td>4.778</td>\n",
              "      <td>4.778</td>\n",
              "      <td>93831500</td>\n",
              "    </tr>\n",
              "    <tr>\n",
              "      <th>1</th>\n",
              "      <td>2010-06-30</td>\n",
              "      <td>5.158</td>\n",
              "      <td>6.084</td>\n",
              "      <td>4.660</td>\n",
              "      <td>4.766</td>\n",
              "      <td>4.766</td>\n",
              "      <td>85935500</td>\n",
              "    </tr>\n",
              "    <tr>\n",
              "      <th>2</th>\n",
              "      <td>2010-07-01</td>\n",
              "      <td>5.000</td>\n",
              "      <td>5.184</td>\n",
              "      <td>4.054</td>\n",
              "      <td>4.392</td>\n",
              "      <td>4.392</td>\n",
              "      <td>41094000</td>\n",
              "    </tr>\n",
              "    <tr>\n",
              "      <th>3</th>\n",
              "      <td>2010-07-02</td>\n",
              "      <td>4.600</td>\n",
              "      <td>4.620</td>\n",
              "      <td>3.742</td>\n",
              "      <td>3.840</td>\n",
              "      <td>3.840</td>\n",
              "      <td>25699000</td>\n",
              "    </tr>\n",
              "    <tr>\n",
              "      <th>4</th>\n",
              "      <td>2010-07-06</td>\n",
              "      <td>4.000</td>\n",
              "      <td>4.000</td>\n",
              "      <td>3.166</td>\n",
              "      <td>3.222</td>\n",
              "      <td>3.222</td>\n",
              "      <td>34334500</td>\n",
              "    </tr>\n",
              "  </tbody>\n",
              "</table>\n",
              "</div>\n",
              "      <button class=\"colab-df-convert\" onclick=\"convertToInteractive('df-cd457f53-a250-4102-abe7-d72665ca6a6d')\"\n",
              "              title=\"Convert this dataframe to an interactive table.\"\n",
              "              style=\"display:none;\">\n",
              "        \n",
              "  <svg xmlns=\"http://www.w3.org/2000/svg\" height=\"24px\"viewBox=\"0 0 24 24\"\n",
              "       width=\"24px\">\n",
              "    <path d=\"M0 0h24v24H0V0z\" fill=\"none\"/>\n",
              "    <path d=\"M18.56 5.44l.94 2.06.94-2.06 2.06-.94-2.06-.94-.94-2.06-.94 2.06-2.06.94zm-11 1L8.5 8.5l.94-2.06 2.06-.94-2.06-.94L8.5 2.5l-.94 2.06-2.06.94zm10 10l.94 2.06.94-2.06 2.06-.94-2.06-.94-.94-2.06-.94 2.06-2.06.94z\"/><path d=\"M17.41 7.96l-1.37-1.37c-.4-.4-.92-.59-1.43-.59-.52 0-1.04.2-1.43.59L10.3 9.45l-7.72 7.72c-.78.78-.78 2.05 0 2.83L4 21.41c.39.39.9.59 1.41.59.51 0 1.02-.2 1.41-.59l7.78-7.78 2.81-2.81c.8-.78.8-2.07 0-2.86zM5.41 20L4 18.59l7.72-7.72 1.47 1.35L5.41 20z\"/>\n",
              "  </svg>\n",
              "      </button>\n",
              "      \n",
              "  <style>\n",
              "    .colab-df-container {\n",
              "      display:flex;\n",
              "      flex-wrap:wrap;\n",
              "      gap: 12px;\n",
              "    }\n",
              "\n",
              "    .colab-df-convert {\n",
              "      background-color: #E8F0FE;\n",
              "      border: none;\n",
              "      border-radius: 50%;\n",
              "      cursor: pointer;\n",
              "      display: none;\n",
              "      fill: #1967D2;\n",
              "      height: 32px;\n",
              "      padding: 0 0 0 0;\n",
              "      width: 32px;\n",
              "    }\n",
              "\n",
              "    .colab-df-convert:hover {\n",
              "      background-color: #E2EBFA;\n",
              "      box-shadow: 0px 1px 2px rgba(60, 64, 67, 0.3), 0px 1px 3px 1px rgba(60, 64, 67, 0.15);\n",
              "      fill: #174EA6;\n",
              "    }\n",
              "\n",
              "    [theme=dark] .colab-df-convert {\n",
              "      background-color: #3B4455;\n",
              "      fill: #D2E3FC;\n",
              "    }\n",
              "\n",
              "    [theme=dark] .colab-df-convert:hover {\n",
              "      background-color: #434B5C;\n",
              "      box-shadow: 0px 1px 3px 1px rgba(0, 0, 0, 0.15);\n",
              "      filter: drop-shadow(0px 1px 2px rgba(0, 0, 0, 0.3));\n",
              "      fill: #FFFFFF;\n",
              "    }\n",
              "  </style>\n",
              "\n",
              "      <script>\n",
              "        const buttonEl =\n",
              "          document.querySelector('#df-cd457f53-a250-4102-abe7-d72665ca6a6d button.colab-df-convert');\n",
              "        buttonEl.style.display =\n",
              "          google.colab.kernel.accessAllowed ? 'block' : 'none';\n",
              "\n",
              "        async function convertToInteractive(key) {\n",
              "          const element = document.querySelector('#df-cd457f53-a250-4102-abe7-d72665ca6a6d');\n",
              "          const dataTable =\n",
              "            await google.colab.kernel.invokeFunction('convertToInteractive',\n",
              "                                                     [key], {});\n",
              "          if (!dataTable) return;\n",
              "\n",
              "          const docLinkHtml = 'Like what you see? Visit the ' +\n",
              "            '<a target=\"_blank\" href=https://colab.research.google.com/notebooks/data_table.ipynb>data table notebook</a>'\n",
              "            + ' to learn more about interactive tables.';\n",
              "          element.innerHTML = '';\n",
              "          dataTable['output_type'] = 'display_data';\n",
              "          await google.colab.output.renderOutput(dataTable, element);\n",
              "          const docLink = document.createElement('div');\n",
              "          docLink.innerHTML = docLinkHtml;\n",
              "          element.appendChild(docLink);\n",
              "        }\n",
              "      </script>\n",
              "    </div>\n",
              "  </div>\n",
              "  "
            ]
          },
          "metadata": {},
          "execution_count": 8
        }
      ]
    },
    {
      "cell_type": "code",
      "source": [
        "dataset.describe()"
      ],
      "metadata": {
        "colab": {
          "base_uri": "https://localhost:8080/",
          "height": 300
        },
        "id": "ONDkcezZwZsP",
        "outputId": "800cf55a-e1af-4d40-90fa-17ac499c9776"
      },
      "execution_count": 9,
      "outputs": [
        {
          "output_type": "execute_result",
          "data": {
            "text/plain": [
              "              Open         High          Low        Close    Adj Close  \\\n",
              "count  2956.000000  2956.000000  2956.000000  2956.000000  2956.000000   \n",
              "mean    138.691296   141.771603   135.425953   138.762183   138.762183   \n",
              "std     250.044839   255.863239   243.774157   250.123115   250.123115   \n",
              "min       3.228000     3.326000     2.996000     3.160000     3.160000   \n",
              "25%      19.627000    20.402000    19.127500    19.615000    19.615000   \n",
              "50%      46.656999    47.487001    45.820002    46.545000    46.545000   \n",
              "75%      68.057001    69.357500    66.911501    68.103998    68.103998   \n",
              "max    1234.410034  1243.489990  1217.000000  1229.910034  1229.910034   \n",
              "\n",
              "             Volume  \n",
              "count  2.956000e+03  \n",
              "mean   3.131449e+07  \n",
              "std    2.798383e+07  \n",
              "min    5.925000e+05  \n",
              "25%    1.310288e+07  \n",
              "50%    2.488680e+07  \n",
              "75%    3.973875e+07  \n",
              "max    3.046940e+08  "
            ],
            "text/html": [
              "\n",
              "  <div id=\"df-c59dddf8-7fd5-4ab0-9ff3-bdffcc0034d4\">\n",
              "    <div class=\"colab-df-container\">\n",
              "      <div>\n",
              "<style scoped>\n",
              "    .dataframe tbody tr th:only-of-type {\n",
              "        vertical-align: middle;\n",
              "    }\n",
              "\n",
              "    .dataframe tbody tr th {\n",
              "        vertical-align: top;\n",
              "    }\n",
              "\n",
              "    .dataframe thead th {\n",
              "        text-align: right;\n",
              "    }\n",
              "</style>\n",
              "<table border=\"1\" class=\"dataframe\">\n",
              "  <thead>\n",
              "    <tr style=\"text-align: right;\">\n",
              "      <th></th>\n",
              "      <th>Open</th>\n",
              "      <th>High</th>\n",
              "      <th>Low</th>\n",
              "      <th>Close</th>\n",
              "      <th>Adj Close</th>\n",
              "      <th>Volume</th>\n",
              "    </tr>\n",
              "  </thead>\n",
              "  <tbody>\n",
              "    <tr>\n",
              "      <th>count</th>\n",
              "      <td>2956.000000</td>\n",
              "      <td>2956.000000</td>\n",
              "      <td>2956.000000</td>\n",
              "      <td>2956.000000</td>\n",
              "      <td>2956.000000</td>\n",
              "      <td>2.956000e+03</td>\n",
              "    </tr>\n",
              "    <tr>\n",
              "      <th>mean</th>\n",
              "      <td>138.691296</td>\n",
              "      <td>141.771603</td>\n",
              "      <td>135.425953</td>\n",
              "      <td>138.762183</td>\n",
              "      <td>138.762183</td>\n",
              "      <td>3.131449e+07</td>\n",
              "    </tr>\n",
              "    <tr>\n",
              "      <th>std</th>\n",
              "      <td>250.044839</td>\n",
              "      <td>255.863239</td>\n",
              "      <td>243.774157</td>\n",
              "      <td>250.123115</td>\n",
              "      <td>250.123115</td>\n",
              "      <td>2.798383e+07</td>\n",
              "    </tr>\n",
              "    <tr>\n",
              "      <th>min</th>\n",
              "      <td>3.228000</td>\n",
              "      <td>3.326000</td>\n",
              "      <td>2.996000</td>\n",
              "      <td>3.160000</td>\n",
              "      <td>3.160000</td>\n",
              "      <td>5.925000e+05</td>\n",
              "    </tr>\n",
              "    <tr>\n",
              "      <th>25%</th>\n",
              "      <td>19.627000</td>\n",
              "      <td>20.402000</td>\n",
              "      <td>19.127500</td>\n",
              "      <td>19.615000</td>\n",
              "      <td>19.615000</td>\n",
              "      <td>1.310288e+07</td>\n",
              "    </tr>\n",
              "    <tr>\n",
              "      <th>50%</th>\n",
              "      <td>46.656999</td>\n",
              "      <td>47.487001</td>\n",
              "      <td>45.820002</td>\n",
              "      <td>46.545000</td>\n",
              "      <td>46.545000</td>\n",
              "      <td>2.488680e+07</td>\n",
              "    </tr>\n",
              "    <tr>\n",
              "      <th>75%</th>\n",
              "      <td>68.057001</td>\n",
              "      <td>69.357500</td>\n",
              "      <td>66.911501</td>\n",
              "      <td>68.103998</td>\n",
              "      <td>68.103998</td>\n",
              "      <td>3.973875e+07</td>\n",
              "    </tr>\n",
              "    <tr>\n",
              "      <th>max</th>\n",
              "      <td>1234.410034</td>\n",
              "      <td>1243.489990</td>\n",
              "      <td>1217.000000</td>\n",
              "      <td>1229.910034</td>\n",
              "      <td>1229.910034</td>\n",
              "      <td>3.046940e+08</td>\n",
              "    </tr>\n",
              "  </tbody>\n",
              "</table>\n",
              "</div>\n",
              "      <button class=\"colab-df-convert\" onclick=\"convertToInteractive('df-c59dddf8-7fd5-4ab0-9ff3-bdffcc0034d4')\"\n",
              "              title=\"Convert this dataframe to an interactive table.\"\n",
              "              style=\"display:none;\">\n",
              "        \n",
              "  <svg xmlns=\"http://www.w3.org/2000/svg\" height=\"24px\"viewBox=\"0 0 24 24\"\n",
              "       width=\"24px\">\n",
              "    <path d=\"M0 0h24v24H0V0z\" fill=\"none\"/>\n",
              "    <path d=\"M18.56 5.44l.94 2.06.94-2.06 2.06-.94-2.06-.94-.94-2.06-.94 2.06-2.06.94zm-11 1L8.5 8.5l.94-2.06 2.06-.94-2.06-.94L8.5 2.5l-.94 2.06-2.06.94zm10 10l.94 2.06.94-2.06 2.06-.94-2.06-.94-.94-2.06-.94 2.06-2.06.94z\"/><path d=\"M17.41 7.96l-1.37-1.37c-.4-.4-.92-.59-1.43-.59-.52 0-1.04.2-1.43.59L10.3 9.45l-7.72 7.72c-.78.78-.78 2.05 0 2.83L4 21.41c.39.39.9.59 1.41.59.51 0 1.02-.2 1.41-.59l7.78-7.78 2.81-2.81c.8-.78.8-2.07 0-2.86zM5.41 20L4 18.59l7.72-7.72 1.47 1.35L5.41 20z\"/>\n",
              "  </svg>\n",
              "      </button>\n",
              "      \n",
              "  <style>\n",
              "    .colab-df-container {\n",
              "      display:flex;\n",
              "      flex-wrap:wrap;\n",
              "      gap: 12px;\n",
              "    }\n",
              "\n",
              "    .colab-df-convert {\n",
              "      background-color: #E8F0FE;\n",
              "      border: none;\n",
              "      border-radius: 50%;\n",
              "      cursor: pointer;\n",
              "      display: none;\n",
              "      fill: #1967D2;\n",
              "      height: 32px;\n",
              "      padding: 0 0 0 0;\n",
              "      width: 32px;\n",
              "    }\n",
              "\n",
              "    .colab-df-convert:hover {\n",
              "      background-color: #E2EBFA;\n",
              "      box-shadow: 0px 1px 2px rgba(60, 64, 67, 0.3), 0px 1px 3px 1px rgba(60, 64, 67, 0.15);\n",
              "      fill: #174EA6;\n",
              "    }\n",
              "\n",
              "    [theme=dark] .colab-df-convert {\n",
              "      background-color: #3B4455;\n",
              "      fill: #D2E3FC;\n",
              "    }\n",
              "\n",
              "    [theme=dark] .colab-df-convert:hover {\n",
              "      background-color: #434B5C;\n",
              "      box-shadow: 0px 1px 3px 1px rgba(0, 0, 0, 0.15);\n",
              "      filter: drop-shadow(0px 1px 2px rgba(0, 0, 0, 0.3));\n",
              "      fill: #FFFFFF;\n",
              "    }\n",
              "  </style>\n",
              "\n",
              "      <script>\n",
              "        const buttonEl =\n",
              "          document.querySelector('#df-c59dddf8-7fd5-4ab0-9ff3-bdffcc0034d4 button.colab-df-convert');\n",
              "        buttonEl.style.display =\n",
              "          google.colab.kernel.accessAllowed ? 'block' : 'none';\n",
              "\n",
              "        async function convertToInteractive(key) {\n",
              "          const element = document.querySelector('#df-c59dddf8-7fd5-4ab0-9ff3-bdffcc0034d4');\n",
              "          const dataTable =\n",
              "            await google.colab.kernel.invokeFunction('convertToInteractive',\n",
              "                                                     [key], {});\n",
              "          if (!dataTable) return;\n",
              "\n",
              "          const docLinkHtml = 'Like what you see? Visit the ' +\n",
              "            '<a target=\"_blank\" href=https://colab.research.google.com/notebooks/data_table.ipynb>data table notebook</a>'\n",
              "            + ' to learn more about interactive tables.';\n",
              "          element.innerHTML = '';\n",
              "          dataTable['output_type'] = 'display_data';\n",
              "          await google.colab.output.renderOutput(dataTable, element);\n",
              "          const docLink = document.createElement('div');\n",
              "          docLink.innerHTML = docLinkHtml;\n",
              "          element.appendChild(docLink);\n",
              "        }\n",
              "      </script>\n",
              "    </div>\n",
              "  </div>\n",
              "  "
            ]
          },
          "metadata": {},
          "execution_count": 9
        }
      ]
    },
    {
      "cell_type": "code",
      "source": [
        "x = dataset[['High','Low','Open','Volume']].values\n",
        "y = dataset['Close'].values"
      ],
      "metadata": {
        "id": "f_56ThoCwpMU"
      },
      "execution_count": 11,
      "outputs": []
    },
    {
      "cell_type": "code",
      "source": [
        "x_train,x_test,y_train,y_test = train_test_split(x,y,test_size=0.2,random_state=0)"
      ],
      "metadata": {
        "id": "knab5SWfw_nV"
      },
      "execution_count": 14,
      "outputs": []
    },
    {
      "cell_type": "code",
      "source": [
        "Regressor = LinearRegression()\n",
        "Regressor.fit(x_train,y_train)"
      ],
      "metadata": {
        "colab": {
          "base_uri": "https://localhost:8080/"
        },
        "id": "KZHikZyWyxXQ",
        "outputId": "bda04401-001d-41f7-a0bc-4c8bb06e291e"
      },
      "execution_count": 16,
      "outputs": [
        {
          "output_type": "execute_result",
          "data": {
            "text/plain": [
              "LinearRegression()"
            ]
          },
          "metadata": {},
          "execution_count": 16
        }
      ]
    },
    {
      "cell_type": "code",
      "source": [
        "print(Regressor.coef_)"
      ],
      "metadata": {
        "colab": {
          "base_uri": "https://localhost:8080/"
        },
        "id": "MVXDgcfUy3Ct",
        "outputId": "e92a19cb-108a-4589-8327-6df8f247048b"
      },
      "execution_count": 17,
      "outputs": [
        {
          "output_type": "stream",
          "name": "stdout",
          "text": [
            "[ 9.05395811e-01  7.60050738e-01 -6.67148522e-01  6.22242613e-09]\n"
          ]
        }
      ]
    },
    {
      "cell_type": "code",
      "source": [
        "print(Regressor.intercept_)"
      ],
      "metadata": {
        "colab": {
          "base_uri": "https://localhost:8080/"
        },
        "id": "xOcFU39nzNsV",
        "outputId": "8a01c5fe-c7e3-40d9-9fba-b496a410d123"
      },
      "execution_count": 18,
      "outputs": [
        {
          "output_type": "stream",
          "name": "stdout",
          "text": [
            "-0.13051357426684262\n"
          ]
        }
      ]
    },
    {
      "cell_type": "code",
      "source": [
        "predicted = Regressor.predict(x_test)"
      ],
      "metadata": {
        "id": "MU5OI7eczgcT"
      },
      "execution_count": 19,
      "outputs": []
    },
    {
      "cell_type": "code",
      "source": [
        "print(predicted)"
      ],
      "metadata": {
        "colab": {
          "base_uri": "https://localhost:8080/"
        },
        "id": "fyRjilY_zonU",
        "outputId": "feb93a79-1f79-42d1-d085-ebd0faa690f7"
      },
      "execution_count": 20,
      "outputs": [
        {
          "output_type": "stream",
          "name": "stdout",
          "text": [
            "[  72.62427782    6.82301953    5.83096201    5.51074696   50.44697626\n",
            "   45.65944073   11.415197     50.33138652  117.17876783   40.50685066\n",
            "    5.47939562    4.72189921   44.38192122    3.532656     87.15016261\n",
            "   62.61468488   33.26852538   51.86171637  871.36681569   60.85610113\n",
            "    5.72267245   46.3972942   829.5481226     4.7960932     6.19116037\n",
            "    4.5746322    65.84619755   66.99695249   50.17376511    3.86054463\n",
            "    6.43644893   35.78101445   27.45052313   41.79783096   48.17928334\n",
            "   46.34457654   46.05382136 1085.63620023   42.88504686  389.00593413\n",
            "    6.93968137   67.69159361   55.46548887    5.22445615    6.51628611\n",
            "  328.38144328    5.48512498   70.63200206   46.8026771    40.13091212\n",
            "   41.12699196    6.80616936   41.33424635   39.37723369   60.78190219\n",
            "  796.78625947    6.57189792  452.1994638    48.08402756   59.0350462\n",
            "  434.94225944   64.52728114   63.16931759   46.91693272   35.00446964\n",
            "    6.19831549   46.8266313    29.84749979   55.67878187  821.47768109\n",
            "   51.43417679   45.66332752  451.03554776   45.32128165  753.04212208\n",
            "   57.31950238 1128.39435708   41.86521114   86.40814273   50.02316659\n",
            "   50.84945216    5.12111044  703.82004756  626.01472777    6.67302078\n",
            "  430.22972193  611.80916743   44.87883638   41.89256712   39.78937742\n",
            "  155.32015753    4.7328568    38.03592163   61.95203314 1024.98089109\n",
            "    6.96832554   50.13922713    5.87225057    6.72920276  711.15492411\n",
            "   42.51280517   62.97356404 1077.59801139   46.67785409   34.34052515\n",
            "   45.88885115    7.18366128 1177.89314688    5.44708457   45.62894942\n",
            "  664.38745373  663.11645825    7.45200312 1143.8123462     5.93665125\n",
            "  792.38417719    4.77399185  720.93461446   63.08431177    4.94718403\n",
            "   49.0879059     5.60563281   44.17562146   60.35394097   44.11718144\n",
            "   71.65615055  298.42384366   62.07429707    3.6028162     9.44763697\n",
            "   59.42232391   60.71596331   10.81686644   61.86806671   58.88495643\n",
            "   40.40632608   58.4049292   303.42504612   43.99744466    5.770844\n",
            "   38.9648094     5.31766228   48.9410889    55.58820361   68.69015517\n",
            "   52.47629832    6.55730283    4.04411544    4.8139154   747.37560674\n",
            "   65.21763859    6.77133506   40.6082348     5.1550248     5.46609879\n",
            "    6.18981514   62.72669517   50.72886132    5.80398608    7.56637275\n",
            "   51.1759769    45.64997517  802.35578428  741.93433698    5.49838581\n",
            "   59.58942557   47.30685666    5.8495135    44.39724853    7.25198882\n",
            "   59.73473053    6.30389783   29.33408585   48.90167898   42.35022002\n",
            "   42.10816048   44.66267669   41.10683023   66.55644807  423.44718059\n",
            "  163.30020994   62.83501163   53.82198443   60.32150247   41.86495671\n",
            "  559.85957193  400.67300954   33.34884002   53.82934051    6.05318938\n",
            "  143.88778869   26.92347497   36.98040764   47.74478694    3.95472448\n",
            "   70.90668643    8.91458649  425.22194383  102.63766175  107.5105625\n",
            "  849.12447343   45.46168793   49.90386059    5.62589515   39.26269034\n",
            "    5.08213183   50.46344418    7.00259059  573.27669381   71.90961557\n",
            "    3.95858453   73.05312791   54.34412482   37.91789486    3.90054905\n",
            "   28.87830963  682.35182979    5.93264993   47.05423114  414.98407742\n",
            "    4.64411056    4.41762781   69.87185472  638.22271028    5.07011207\n",
            "   27.52271103   96.6297473    45.52011892  431.05059102   19.98930162\n",
            "    5.64673724   73.46673473    5.77467624    7.6352814   617.84055793\n",
            "  683.7444404    53.30926111    5.5640107    41.29819352  131.64530416\n",
            "   50.75485059    7.36433875    5.25894302  824.45414721    4.41977645\n",
            "  886.67025284   41.37837404   17.72702165   72.76643551   45.59489089\n",
            "    6.7017836    37.66336996    6.06046548   51.3941907    61.12446102\n",
            "  864.17856496   42.78412816   46.82030627   51.34519464   39.54269283\n",
            "   63.25077714   39.49134566   39.39330905   53.15798625   40.61988164\n",
            "   14.80525247    6.17637337   47.50871139   37.53377501   47.32882559\n",
            " 1067.29566435   48.6876343     5.5224216   778.81344859   49.57933046\n",
            "  832.80765749    5.81411206   27.93266158  365.7487776   197.93021303\n",
            "  196.86774379   52.81735767    5.43769149    6.73083353   76.1705666\n",
            "    3.57681457  642.40871366  426.37000347  110.93863085  858.25986774\n",
            "   45.05585666   51.88021228    4.00779658  999.31150637   40.5380872\n",
            "   53.87317293   48.73409813   63.48341388  727.31289423  145.90154106\n",
            "  414.27862558    6.02630224   42.18204828  402.08533587    5.67829655\n",
            "    5.79624469   53.27590648    5.45435348    5.8008052    20.32921159\n",
            "   43.74085006  650.78573875   37.97567778   65.33284934   45.98626204\n",
            "   37.92935202    4.62907591    5.40234786    4.6978639    42.72189917\n",
            "   43.96013777   18.19358949    5.30645622    5.79198362   18.3760195\n",
            "  149.80028125   40.56524703   43.5151881   159.43290566   67.97868176\n",
            "    6.25474119   63.17518526  726.71616269   48.10223437 1185.25710692\n",
            "    6.26027819  749.3883113    58.62053132  704.04328778  743.17119719\n",
            "  900.14701842  303.84598242 1050.43879779  740.93939665   45.95406187\n",
            "   69.17884474   47.90357307   65.28595891   64.26878601   55.787649\n",
            "    5.32699451   30.01724082   39.19188484   50.73549636   31.00032995\n",
            "  635.62666069    7.03102442   50.70257133   30.79297713    6.69649554\n",
            "   41.47913197    6.21643323    5.56908532   94.68668043   30.74684835\n",
            "    4.18128764  691.90503356   61.87236249   70.73699371   53.94871884\n",
            "   44.87028939   44.12925506  832.42220551   47.69981356  632.95449721\n",
            "   48.65758491   44.56388511   48.87360472   47.37417294    5.31779671\n",
            "   43.31014607   48.09828892   48.64876878   54.58721818    4.68869041\n",
            "   37.55156887  165.54447752   44.40413124   28.6173981     6.87798937\n",
            "  589.19794263   44.29062056    5.78110639  112.15965294   31.46851297\n",
            "    3.76790203    4.75910723   32.57115158   19.73719154    5.07959912\n",
            "   44.41460293  838.89685457    6.43575972   49.90862911   48.27938603\n",
            "  385.84437921    5.74723992    6.71799461   45.90217415   70.22700521\n",
            "   49.70402495    7.44612584  161.93511557   39.76848006   44.5660787\n",
            "    6.53201963   52.28772575    8.9554654    61.17820141   47.93095721\n",
            "    5.37436712    4.70141022    3.9537575    34.02432123   66.98235859\n",
            "   70.18705954   41.05685647    4.45860275   45.48941121    6.60790273\n",
            "   44.46634912  307.14443243   43.90716814   49.75585574   35.85332986\n",
            "   47.51703076  711.28482013   48.84580838   29.71983949  828.11000099\n",
            "   69.87204014   43.12384703  154.97434318   69.26759899  913.91995693\n",
            "   55.39707065   45.82870661  796.93748281    7.2195072    59.77445031\n",
            "   49.24684833    5.28843281   40.41376707  624.44000818   62.66867595\n",
            "   69.61620764    5.76985352   39.39267231   29.70237246   60.35368705\n",
            "   50.2696837     6.53951765  203.50596293    7.31575062  864.97841014\n",
            "   62.33182378   59.63260812   52.69047956   40.14939518    5.70011373\n",
            "   33.20193566   64.65527872   42.42964059  303.12673049    3.77442786\n",
            "   69.30190118    5.78157615    5.7378075     6.64028247    5.82373502\n",
            "   46.50049902   42.64976452   24.28582542   61.14018895  848.51244401\n",
            "   67.10956939   38.54412477    6.38882959   56.76959096   46.55992592\n",
            "    6.23084547   68.3983589    75.3962178    57.39207291    4.42186969\n",
            "   32.89550777    5.74542457   61.54137899   93.37977346  272.1010861\n",
            "    5.50466918   53.54932288   62.07019506   53.06279157    6.54425714\n",
            "   44.51568817 1221.46007646    5.776267     45.25958998  626.63551491\n",
            "  162.79349821   45.24234769    4.01521951 1016.19502842  682.90905163\n",
            "   57.71184396    5.7505107    27.93173793    5.47337091  652.31362125\n",
            "   64.77493428   42.4384873    54.80345906   49.00229887   59.21736283\n",
            "  713.11355386   49.63782208   53.05230749    7.07148599    6.58820838\n",
            "   68.85001199    6.55808865   20.61748434  303.97230696    6.08827338\n",
            "   43.7150389     4.79382748   50.27078119    5.63391269   63.26935535\n",
            "    7.25683394  927.90330375   57.84675135    6.07490003   66.45523525\n",
            "    5.54622231   60.26424127   45.03829493    4.82233696    6.24483011\n",
            "   60.67186952   26.67280571    6.70448227    5.23890857   58.36584181\n",
            "   38.65583993 1097.71762173   62.87124694   31.76361933   51.46616481\n",
            "   61.33545266   50.87787926   59.06182145    5.60978092    4.30452847\n",
            "   44.22102004  756.46129906   37.04927476  186.17445755   41.50840423\n",
            "   64.07307787  681.77275734   46.45980406  642.71888362   51.79080779\n",
            "   71.8757699     5.57712671   52.67784446    5.81686079   20.3941607\n",
            "   40.35243076   45.47130602    7.03827348   10.94992291   55.54183629\n",
            "    6.73261823    6.3477161   432.19175201   43.36509863   37.91236716\n",
            "  422.52898554   98.32201509]\n"
          ]
        }
      ]
    },
    {
      "cell_type": "code",
      "source": [
        ""
      ],
      "metadata": {
        "id": "lsdX9WQ40a3G"
      },
      "execution_count": null,
      "outputs": []
    },
    {
      "cell_type": "code",
      "source": [
        "dframe = pd.DataFrame({'Actual':y_test.flatten(),'Predicted':predicted.flatten()})"
      ],
      "metadata": {
        "id": "zMsDzJ3Jzu72"
      },
      "execution_count": 21,
      "outputs": []
    },
    {
      "cell_type": "code",
      "source": [
        "dframe.head(25)"
      ],
      "metadata": {
        "colab": {
          "base_uri": "https://localhost:8080/",
          "height": 833
        },
        "id": "jyIu4wep0ElM",
        "outputId": "6f68cc35-5e1e-44c5-890e-9b393dfeb83e"
      },
      "execution_count": 22,
      "outputs": [
        {
          "output_type": "execute_result",
          "data": {
            "text/plain": [
              "        Actual   Predicted\n",
              "0    71.463997   72.624278\n",
              "1     6.876000    6.823020\n",
              "2     5.920000    5.830962\n",
              "3     5.622000    5.510747\n",
              "4    50.638000   50.446976\n",
              "5    45.270000   45.659441\n",
              "6    11.158000   11.415197\n",
              "7    50.293999   50.331387\n",
              "8   113.912003  117.178768\n",
              "9    40.551998   40.506851\n",
              "10    5.606000    5.479396\n",
              "11    4.824000    4.721899\n",
              "12   43.939999   44.381921\n",
              "13    3.580000    3.532656\n",
              "14   85.528000   87.150163\n",
              "15   62.327999   62.614685\n",
              "16   33.756001   33.268525\n",
              "17   51.402000   51.861716\n",
              "18  870.109985  871.366816\n",
              "19   60.754002   60.856101\n",
              "20    5.746000    5.722672\n",
              "21   46.285999   46.397294\n",
              "22  835.429993  829.548123\n",
              "23    4.996000    4.796093\n",
              "24    6.276000    6.191160"
            ],
            "text/html": [
              "\n",
              "  <div id=\"df-45fa5c9b-8c46-4c73-9247-cfd37df75e32\">\n",
              "    <div class=\"colab-df-container\">\n",
              "      <div>\n",
              "<style scoped>\n",
              "    .dataframe tbody tr th:only-of-type {\n",
              "        vertical-align: middle;\n",
              "    }\n",
              "\n",
              "    .dataframe tbody tr th {\n",
              "        vertical-align: top;\n",
              "    }\n",
              "\n",
              "    .dataframe thead th {\n",
              "        text-align: right;\n",
              "    }\n",
              "</style>\n",
              "<table border=\"1\" class=\"dataframe\">\n",
              "  <thead>\n",
              "    <tr style=\"text-align: right;\">\n",
              "      <th></th>\n",
              "      <th>Actual</th>\n",
              "      <th>Predicted</th>\n",
              "    </tr>\n",
              "  </thead>\n",
              "  <tbody>\n",
              "    <tr>\n",
              "      <th>0</th>\n",
              "      <td>71.463997</td>\n",
              "      <td>72.624278</td>\n",
              "    </tr>\n",
              "    <tr>\n",
              "      <th>1</th>\n",
              "      <td>6.876000</td>\n",
              "      <td>6.823020</td>\n",
              "    </tr>\n",
              "    <tr>\n",
              "      <th>2</th>\n",
              "      <td>5.920000</td>\n",
              "      <td>5.830962</td>\n",
              "    </tr>\n",
              "    <tr>\n",
              "      <th>3</th>\n",
              "      <td>5.622000</td>\n",
              "      <td>5.510747</td>\n",
              "    </tr>\n",
              "    <tr>\n",
              "      <th>4</th>\n",
              "      <td>50.638000</td>\n",
              "      <td>50.446976</td>\n",
              "    </tr>\n",
              "    <tr>\n",
              "      <th>5</th>\n",
              "      <td>45.270000</td>\n",
              "      <td>45.659441</td>\n",
              "    </tr>\n",
              "    <tr>\n",
              "      <th>6</th>\n",
              "      <td>11.158000</td>\n",
              "      <td>11.415197</td>\n",
              "    </tr>\n",
              "    <tr>\n",
              "      <th>7</th>\n",
              "      <td>50.293999</td>\n",
              "      <td>50.331387</td>\n",
              "    </tr>\n",
              "    <tr>\n",
              "      <th>8</th>\n",
              "      <td>113.912003</td>\n",
              "      <td>117.178768</td>\n",
              "    </tr>\n",
              "    <tr>\n",
              "      <th>9</th>\n",
              "      <td>40.551998</td>\n",
              "      <td>40.506851</td>\n",
              "    </tr>\n",
              "    <tr>\n",
              "      <th>10</th>\n",
              "      <td>5.606000</td>\n",
              "      <td>5.479396</td>\n",
              "    </tr>\n",
              "    <tr>\n",
              "      <th>11</th>\n",
              "      <td>4.824000</td>\n",
              "      <td>4.721899</td>\n",
              "    </tr>\n",
              "    <tr>\n",
              "      <th>12</th>\n",
              "      <td>43.939999</td>\n",
              "      <td>44.381921</td>\n",
              "    </tr>\n",
              "    <tr>\n",
              "      <th>13</th>\n",
              "      <td>3.580000</td>\n",
              "      <td>3.532656</td>\n",
              "    </tr>\n",
              "    <tr>\n",
              "      <th>14</th>\n",
              "      <td>85.528000</td>\n",
              "      <td>87.150163</td>\n",
              "    </tr>\n",
              "    <tr>\n",
              "      <th>15</th>\n",
              "      <td>62.327999</td>\n",
              "      <td>62.614685</td>\n",
              "    </tr>\n",
              "    <tr>\n",
              "      <th>16</th>\n",
              "      <td>33.756001</td>\n",
              "      <td>33.268525</td>\n",
              "    </tr>\n",
              "    <tr>\n",
              "      <th>17</th>\n",
              "      <td>51.402000</td>\n",
              "      <td>51.861716</td>\n",
              "    </tr>\n",
              "    <tr>\n",
              "      <th>18</th>\n",
              "      <td>870.109985</td>\n",
              "      <td>871.366816</td>\n",
              "    </tr>\n",
              "    <tr>\n",
              "      <th>19</th>\n",
              "      <td>60.754002</td>\n",
              "      <td>60.856101</td>\n",
              "    </tr>\n",
              "    <tr>\n",
              "      <th>20</th>\n",
              "      <td>5.746000</td>\n",
              "      <td>5.722672</td>\n",
              "    </tr>\n",
              "    <tr>\n",
              "      <th>21</th>\n",
              "      <td>46.285999</td>\n",
              "      <td>46.397294</td>\n",
              "    </tr>\n",
              "    <tr>\n",
              "      <th>22</th>\n",
              "      <td>835.429993</td>\n",
              "      <td>829.548123</td>\n",
              "    </tr>\n",
              "    <tr>\n",
              "      <th>23</th>\n",
              "      <td>4.996000</td>\n",
              "      <td>4.796093</td>\n",
              "    </tr>\n",
              "    <tr>\n",
              "      <th>24</th>\n",
              "      <td>6.276000</td>\n",
              "      <td>6.191160</td>\n",
              "    </tr>\n",
              "  </tbody>\n",
              "</table>\n",
              "</div>\n",
              "      <button class=\"colab-df-convert\" onclick=\"convertToInteractive('df-45fa5c9b-8c46-4c73-9247-cfd37df75e32')\"\n",
              "              title=\"Convert this dataframe to an interactive table.\"\n",
              "              style=\"display:none;\">\n",
              "        \n",
              "  <svg xmlns=\"http://www.w3.org/2000/svg\" height=\"24px\"viewBox=\"0 0 24 24\"\n",
              "       width=\"24px\">\n",
              "    <path d=\"M0 0h24v24H0V0z\" fill=\"none\"/>\n",
              "    <path d=\"M18.56 5.44l.94 2.06.94-2.06 2.06-.94-2.06-.94-.94-2.06-.94 2.06-2.06.94zm-11 1L8.5 8.5l.94-2.06 2.06-.94-2.06-.94L8.5 2.5l-.94 2.06-2.06.94zm10 10l.94 2.06.94-2.06 2.06-.94-2.06-.94-.94-2.06-.94 2.06-2.06.94z\"/><path d=\"M17.41 7.96l-1.37-1.37c-.4-.4-.92-.59-1.43-.59-.52 0-1.04.2-1.43.59L10.3 9.45l-7.72 7.72c-.78.78-.78 2.05 0 2.83L4 21.41c.39.39.9.59 1.41.59.51 0 1.02-.2 1.41-.59l7.78-7.78 2.81-2.81c.8-.78.8-2.07 0-2.86zM5.41 20L4 18.59l7.72-7.72 1.47 1.35L5.41 20z\"/>\n",
              "  </svg>\n",
              "      </button>\n",
              "      \n",
              "  <style>\n",
              "    .colab-df-container {\n",
              "      display:flex;\n",
              "      flex-wrap:wrap;\n",
              "      gap: 12px;\n",
              "    }\n",
              "\n",
              "    .colab-df-convert {\n",
              "      background-color: #E8F0FE;\n",
              "      border: none;\n",
              "      border-radius: 50%;\n",
              "      cursor: pointer;\n",
              "      display: none;\n",
              "      fill: #1967D2;\n",
              "      height: 32px;\n",
              "      padding: 0 0 0 0;\n",
              "      width: 32px;\n",
              "    }\n",
              "\n",
              "    .colab-df-convert:hover {\n",
              "      background-color: #E2EBFA;\n",
              "      box-shadow: 0px 1px 2px rgba(60, 64, 67, 0.3), 0px 1px 3px 1px rgba(60, 64, 67, 0.15);\n",
              "      fill: #174EA6;\n",
              "    }\n",
              "\n",
              "    [theme=dark] .colab-df-convert {\n",
              "      background-color: #3B4455;\n",
              "      fill: #D2E3FC;\n",
              "    }\n",
              "\n",
              "    [theme=dark] .colab-df-convert:hover {\n",
              "      background-color: #434B5C;\n",
              "      box-shadow: 0px 1px 3px 1px rgba(0, 0, 0, 0.15);\n",
              "      filter: drop-shadow(0px 1px 2px rgba(0, 0, 0, 0.3));\n",
              "      fill: #FFFFFF;\n",
              "    }\n",
              "  </style>\n",
              "\n",
              "      <script>\n",
              "        const buttonEl =\n",
              "          document.querySelector('#df-45fa5c9b-8c46-4c73-9247-cfd37df75e32 button.colab-df-convert');\n",
              "        buttonEl.style.display =\n",
              "          google.colab.kernel.accessAllowed ? 'block' : 'none';\n",
              "\n",
              "        async function convertToInteractive(key) {\n",
              "          const element = document.querySelector('#df-45fa5c9b-8c46-4c73-9247-cfd37df75e32');\n",
              "          const dataTable =\n",
              "            await google.colab.kernel.invokeFunction('convertToInteractive',\n",
              "                                                     [key], {});\n",
              "          if (!dataTable) return;\n",
              "\n",
              "          const docLinkHtml = 'Like what you see? Visit the ' +\n",
              "            '<a target=\"_blank\" href=https://colab.research.google.com/notebooks/data_table.ipynb>data table notebook</a>'\n",
              "            + ' to learn more about interactive tables.';\n",
              "          element.innerHTML = '';\n",
              "          dataTable['output_type'] = 'display_data';\n",
              "          await google.colab.output.renderOutput(dataTable, element);\n",
              "          const docLink = document.createElement('div');\n",
              "          docLink.innerHTML = docLinkHtml;\n",
              "          element.appendChild(docLink);\n",
              "        }\n",
              "      </script>\n",
              "    </div>\n",
              "  </div>\n",
              "  "
            ]
          },
          "metadata": {},
          "execution_count": 22
        }
      ]
    },
    {
      "cell_type": "code",
      "source": [
        "print('Mean Absolute Error: ',metrics.mean_absolute_error(y_test,predicted))\n",
        "print('Mean Squared Error: ',metrics.mean_squared_error(y_test, predicted))\n",
        "print('Root Mean Squared Error: ',math.sqrt(metrics.mean_squared_error(y_test, predicted)))"
      ],
      "metadata": {
        "colab": {
          "base_uri": "https://localhost:8080/"
        },
        "id": "k6chToNH0c6b",
        "outputId": "35d822e5-88eb-45ef-8b08-cd7bb5f916bc"
      },
      "execution_count": 30,
      "outputs": [
        {
          "output_type": "stream",
          "name": "stdout",
          "text": [
            "Mean Absolute Error:  1.5154603938641826\n",
            "Mean Squared Error:  15.216878023142751\n",
            "Root Mean Squared Error:  3.9008816981732157\n"
          ]
        }
      ]
    },
    {
      "cell_type": "code",
      "source": [
        "graph = dframe.head(30)\n",
        "graph.plot(kind='bar')"
      ],
      "metadata": {
        "colab": {
          "base_uri": "https://localhost:8080/",
          "height": 285
        },
        "id": "1JZcaCf01YhH",
        "outputId": "bbdfbb1c-9075-47f2-cd06-e5cbf6ca5f27"
      },
      "execution_count": 31,
      "outputs": [
        {
          "output_type": "execute_result",
          "data": {
            "text/plain": [
              "<matplotlib.axes._subplots.AxesSubplot at 0x7f1839f44f10>"
            ]
          },
          "metadata": {},
          "execution_count": 31
        },
        {
          "output_type": "display_data",
          "data": {
            "text/plain": [
              "<Figure size 432x288 with 1 Axes>"
            ],
            "image/png": "[encoded data removed]"
          },
          "metadata": {
            "needs_background": "light"
          }
        }
      ]
    },
    {
      "cell_type": "code",
      "source": [
        ""
      ],
      "metadata": {
        "id": "rZ-P-CZp16G3"
      },
      "execution_count": null,
      "outputs": []
    },
    {
      "cell_type": "markdown",
      "source": [
        ""
      ],
      "metadata": {
        "id": "73_QSdXYtgA9"
      }
    }
  ]
}